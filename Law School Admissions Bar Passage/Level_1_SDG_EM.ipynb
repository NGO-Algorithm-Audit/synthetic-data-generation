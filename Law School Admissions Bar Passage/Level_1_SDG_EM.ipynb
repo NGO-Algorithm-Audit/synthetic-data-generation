{
 "cells": [
  {
   "cell_type": "code",
   "execution_count": 1,
   "metadata": {},
   "outputs": [
    {
     "ename": "ImportError",
     "evalue": "cannot import name 'set_plotly_config' from 'sdmetrics.visualization' (C:\\Users\\20181588\\AppData\\Local\\Packages\\PythonSoftwareFoundation.Python.3.11_qbz5n2kfra8p0\\LocalCache\\local-packages\\Python311\\site-packages\\sdmetrics\\visualization.py)",
     "output_type": "error",
     "traceback": [
      "\u001b[1;31m---------------------------------------------------------------------------\u001b[0m",
      "\u001b[1;31mImportError\u001b[0m                               Traceback (most recent call last)",
      "Cell \u001b[1;32mIn[1], line 9\u001b[0m\n\u001b[0;32m      7\u001b[0m \u001b[38;5;28;01mfrom\u001b[39;00m \u001b[38;5;21;01msdv\u001b[39;00m\u001b[38;5;21;01m.\u001b[39;00m\u001b[38;5;21;01mevaluation\u001b[39;00m\u001b[38;5;21;01m.\u001b[39;00m\u001b[38;5;21;01msingle_table\u001b[39;00m \u001b[38;5;28;01mimport\u001b[39;00m run_diagnostic, evaluate_quality\n\u001b[0;32m      8\u001b[0m \u001b[38;5;28;01mfrom\u001b[39;00m \u001b[38;5;21;01msdmetrics\u001b[39;00m\u001b[38;5;21;01m.\u001b[39;00m\u001b[38;5;21;01mreports\u001b[39;00m\u001b[38;5;21;01m.\u001b[39;00m\u001b[38;5;21;01msingle_table\u001b[39;00m \u001b[38;5;28;01mimport\u001b[39;00m QualityReport\n\u001b[1;32m----> 9\u001b[0m \u001b[38;5;28;01mfrom\u001b[39;00m \u001b[38;5;21;01msdmetrics\u001b[39;00m\u001b[38;5;21;01m.\u001b[39;00m\u001b[38;5;21;01mvisualization\u001b[39;00m \u001b[38;5;28;01mimport\u001b[39;00m get_column_plot,set_plotly_config\n\u001b[0;32m     10\u001b[0m \u001b[38;5;28;01mimport\u001b[39;00m \u001b[38;5;21;01mmlflow\u001b[39;00m\n\u001b[0;32m     11\u001b[0m \u001b[38;5;28;01mfrom\u001b[39;00m \u001b[38;5;21;01msdmetrics\u001b[39;00m\u001b[38;5;21;01m.\u001b[39;00m\u001b[38;5;21;01msingle_table\u001b[39;00m \u001b[38;5;28;01mimport\u001b[39;00m BinaryAdaBoostClassifier, CategoricalCAP, CategoricalEnsemble, NumericalSVR\n",
      "\u001b[1;31mImportError\u001b[0m: cannot import name 'set_plotly_config' from 'sdmetrics.visualization' (C:\\Users\\20181588\\AppData\\Local\\Packages\\PythonSoftwareFoundation.Python.3.11_qbz5n2kfra8p0\\LocalCache\\local-packages\\Python311\\site-packages\\sdmetrics\\visualization.py)"
     ]
    }
   ],
   "source": [
    "import numpy as np\n",
    "import pandas as pd\n",
    "import matplotlib.pyplot as plt\n",
    "import seaborn as sns\n",
    "from sdv.metadata import SingleTableMetadata\n",
    "from sdv.single_table import GaussianCopulaSynthesizer\n",
    "from sdv.evaluation.single_table import run_diagnostic, evaluate_quality\n",
    "from sdmetrics.reports.single_table import QualityReport\n",
    "from sdmetrics.visualization import get_column_plot,set_plotly_config\n",
    "import mlflow\n",
    "from sdmetrics.single_table import BinaryAdaBoostClassifier, CategoricalCAP, CategoricalEnsemble, NumericalSVR\n",
    "from imblearn.over_sampling import SMOTE\n",
    "from sklearn.preprocessing import OneHotEncoder\n",
    "\n",
    " "
   ]
  },
  {
   "cell_type": "code",
   "execution_count": null,
   "metadata": {},
   "outputs": [],
   "source": [
    "mlflow.set_tracking_uri(\"sqlite:///mlflow.db\")\n",
    "mlflow.set_experiment(\"admissions\")\n"
   ]
  },
  {
   "cell_type": "code",
   "execution_count": null,
   "metadata": {},
   "outputs": [],
   "source": [
    "admissions_df = pd.read_csv('../data/bar_pass_prediction.csv')\n",
    "print(admissions_df.shape)\n",
    "print(admissions_df.columns)\n",
    "print(admissions_df.isnull().sum())\n",
    "display(admissions_df.head())"
   ]
  },
  {
   "cell_type": "code",
   "execution_count": null,
   "metadata": {},
   "outputs": [],
   "source": [
    "admissions_sub = admissions_df[['ID','sex', 'race',\n",
    "       'lsat', 'ugpa', 'DOB_yr', 'grad', 'bar1', 'bar1_yr',\n",
    "       'bar2', 'bar2_yr', 'fulltime', 'fam_inc', 'age', 'gender', 'Dropout',\n",
    "       'bar_passed','gpa', 'index6040', 'indxgrp',\n",
    "       'indxgrp2' ]]\n"
   ]
  },
  {
   "cell_type": "code",
   "execution_count": null,
   "metadata": {},
   "outputs": [],
   "source": [
    "# Remove all rows with missing values\n",
    "admissions_sub_cleaned = admissions_sub.dropna()\n",
    "print(admissions_sub_cleaned.shape)\n",
    "print(admissions_sub_cleaned.isnull().sum())"
   ]
  },
  {
   "cell_type": "code",
   "execution_count": null,
   "metadata": {},
   "outputs": [],
   "source": [
    "# Select only the categorical columns\n",
    "categorical_columns = admissions_sub_cleaned.select_dtypes(include=['object'])\n",
    "\n",
    "# Loop through each categorical column and print value counts\n",
    "for column in categorical_columns.columns:\n",
    "    print(f\"Value counts for column '{column}':\")\n",
    "    print(admissions_sub_cleaned[column].value_counts())\n",
    "    print()"
   ]
  },
  {
   "cell_type": "code",
   "execution_count": null,
   "metadata": {},
   "outputs": [],
   "source": [
    "f,ax = plt.subplots(figsize=(20, 20))\n",
    "sns.heatmap(admissions_sub_cleaned.corr(numeric_only=True), annot=True, linewidths=.5, fmt= '.2f',ax=ax)\n",
    "plt.show()"
   ]
  },
  {
   "cell_type": "code",
   "execution_count": null,
   "metadata": {},
   "outputs": [],
   "source": [
    "admissions_sub_cleaned.dtypes"
   ]
  },
  {
   "cell_type": "code",
   "execution_count": null,
   "metadata": {},
   "outputs": [],
   "source": [
    "# Define columns to change their data types to categorical\n",
    "update_categorical_columns = ['sex', 'race', 'bar1_yr', 'bar2_yr', 'fulltime', 'fam_inc']\n",
    "\n",
    "# Change data types of categorical columns\n",
    "admissions_sub_cleaned[update_categorical_columns] = admissions_sub_cleaned[update_categorical_columns].astype('category')\n"
   ]
  },
  {
   "cell_type": "code",
   "execution_count": null,
   "metadata": {},
   "outputs": [],
   "source": [
    "admissions_sub_cleaned.dtypes"
   ]
  },
  {
   "cell_type": "code",
   "execution_count": null,
   "metadata": {},
   "outputs": [],
   "source": [
    "# Select numerical columns\n",
    "numerical_columns = ['lsat', 'ugpa', 'DOB_yr', 'age', 'gpa', 'index6040']\n",
    "\n",
    "# Select categorical or boolean columns\n",
    "categorical_columns = ['sex', 'race', 'grad', 'bar1', 'bar1_yr', 'bar2', 'bar2_yr', 'fulltime', 'fam_inc', 'gender', 'Dropout', 'bar_passed', 'indxgrp', 'indxgrp2']\n",
    "\n",
    "# Plot histograms for numerical columns\n",
    "for column in numerical_columns:\n",
    "    plt.figure(figsize=(8, 5))\n",
    "    sns.histplot(admissions_sub_cleaned[column].dropna(), kde=True)\n",
    "    plt.title(f'Histogram of {column}')\n",
    "    plt.xlabel(column)\n",
    "    plt.ylabel('Frequency')\n",
    "    plt.show()\n",
    "\n",
    "# Plot countplots for categorical or boolean columns\n",
    "for column in categorical_columns:\n",
    "    plt.figure(figsize=(8, 5))\n",
    "    if column == 'bar_passed':  # Special handling for boolean column\n",
    "        sns.countplot(x=column, data=admissions_sub_cleaned)\n",
    "    else:\n",
    "        sns.countplot(x=column, data=admissions_sub_cleaned, order=admissions_sub_cleaned[column].value_counts().index)\n",
    "    plt.title(f'Countplot of {column}')\n",
    "    plt.xlabel(column)\n",
    "    plt.ylabel('Count')\n",
    "    plt.xticks(rotation=45)  # Rotate x-axis labels for better readability\n",
    "    plt.show()"
   ]
  },
  {
   "cell_type": "code",
   "execution_count": null,
   "metadata": {},
   "outputs": [],
   "source": [
    "metadata = SingleTableMetadata()\n",
    "metadata.detect_from_dataframe(admissions_sub_cleaned)"
   ]
  },
  {
   "cell_type": "code",
   "execution_count": null,
   "metadata": {},
   "outputs": [],
   "source": [
    "print('Auto detected data:\\n')\n",
    "metadata.visualize()"
   ]
  },
  {
   "cell_type": "code",
   "execution_count": null,
   "metadata": {},
   "outputs": [],
   "source": [
    "metadata.validate()\n",
    "#metadata.save_to_json('admissions_metadata.json')"
   ]
  },
  {
   "cell_type": "markdown",
   "metadata": {},
   "source": [
    "# Gaussian Copula"
   ]
  },
  {
   "cell_type": "markdown",
   "metadata": {},
   "source": [
    "## Produce the synthetic data using a gaussian copula"
   ]
  },
  {
   "cell_type": "code",
   "execution_count": null,
   "metadata": {},
   "outputs": [],
   "source": [
    "synthesizer = GaussianCopulaSynthesizer(metadata,  default_distribution=\"gaussian_kde\")\n",
    "synthesizer.fit(admissions_sub_cleaned)"
   ]
  },
  {
   "cell_type": "code",
   "execution_count": null,
   "metadata": {},
   "outputs": [],
   "source": [
    "synthetic_data_GC = synthesizer.sample(num_rows=2000)\n",
    "synthetic_data_GC.head()"
   ]
  },
  {
   "cell_type": "markdown",
   "metadata": {},
   "source": [
    "## Evaluate the produced synthetic data "
   ]
  },
  {
   "cell_type": "code",
   "execution_count": null,
   "metadata": {},
   "outputs": [],
   "source": [
    "diagnostic = run_diagnostic(\n",
    "    real_data=admissions_sub_cleaned,\n",
    "    synthetic_data=synthetic_data_GC,\n",
    "    metadata=metadata\n",
    ")"
   ]
  },
  {
   "cell_type": "code",
   "execution_count": null,
   "metadata": {},
   "outputs": [],
   "source": [
    "quality_report = evaluate_quality(\n",
    "    admissions_sub_cleaned,\n",
    "    synthetic_data_GC,\n",
    "    metadata\n",
    ")"
   ]
  },
  {
   "cell_type": "code",
   "execution_count": null,
   "metadata": {},
   "outputs": [],
   "source": [
    "quality_report.get_details('Column Shapes')"
   ]
  },
  {
   "cell_type": "code",
   "execution_count": null,
   "metadata": {},
   "outputs": [],
   "source": [
    "fig = get_column_plot(\n",
    "    real_data=admissions_sub_cleaned,\n",
    "    synthetic_data=synthetic_data_GC,\n",
    "    column_name='bar_passed'\n",
    ")\n",
    "\n",
    "fig.show()"
   ]
  },
  {
   "cell_type": "code",
   "execution_count": null,
   "metadata": {},
   "outputs": [],
   "source": [
    "fig = get_column_plot(\n",
    "    real_data=admissions_sub_cleaned,\n",
    "    synthetic_data=synthetic_data_GC,\n",
    "    column_name='fam_inc',\n",
    "    plot_type = 'distplot'\n",
    ")\n",
    "\n",
    "fig.show()"
   ]
  },
  {
   "cell_type": "code",
   "execution_count": null,
   "metadata": {},
   "outputs": [],
   "source": [
    "fig = get_column_plot(\n",
    "    real_data=admissions_sub_cleaned,\n",
    "    synthetic_data=synthetic_data_GC,\n",
    "    column_name='fulltime'\n",
    ")\n",
    "\n",
    "fig.show()"
   ]
  },
  {
   "cell_type": "code",
   "execution_count": null,
   "metadata": {},
   "outputs": [],
   "source": [
    "# Create subplots for side-by-side comparison\n",
    "fig, axes = plt.subplots(1, 2, figsize=(15, 6))\n",
    "\n",
    "# Plot correlation heatmap for the real dataset\n",
    "sns.heatmap(admissions_sub_cleaned.corr(numeric_only=True), cmap='coolwarm', annot=True, fmt=\".2f\", ax=axes[0])\n",
    "axes[0].set_title('Real Dataset Correlation Heatmap')\n",
    "\n",
    "# Plot correlation heatmap for the synthetic dataset\n",
    "sns.heatmap(synthetic_data_GC.corr(numeric_only=True), cmap='coolwarm', annot=True, fmt=\".2f\", ax=axes[1])\n",
    "axes[1].set_title('Synthetic Dataset Correlation Heatmap')\n",
    "\n",
    "plt.tight_layout()\n",
    "plt.show()"
   ]
  },
  {
   "cell_type": "code",
   "execution_count": null,
   "metadata": {},
   "outputs": [],
   "source": [
    "BinaryAdaBoostClassifier.compute(admissions_sub_cleaned, synthetic_data_GC, target = 'bar_passed')"
   ]
  },
  {
   "cell_type": "code",
   "execution_count": null,
   "metadata": {},
   "outputs": [],
   "source": [
    "score = CategoricalCAP.compute(\n",
    "    real_data=admissions_sub_cleaned,\n",
    "    synthetic_data=synthetic_data_GC,\n",
    "    key_fields=['age', 'fam_inc'],\n",
    "    sensitive_fields=['indxgrp']\n",
    ")\n",
    "score"
   ]
  },
  {
   "cell_type": "markdown",
   "metadata": {},
   "source": [
    "# SMOTE"
   ]
  },
  {
   "cell_type": "code",
   "execution_count": null,
   "metadata": {},
   "outputs": [],
   "source": [
    "admissions_sub_cleaned.columns = admissions_sub_cleaned.columns.astype(str)\n",
    "\n",
    "\n",
    "# Detect categorical columns automatically\n",
    "categorical_columns = admissions_sub_cleaned.select_dtypes(include=['object', 'category']).columns.tolist()\n",
    "\n",
    "\n",
    "\n",
    "# Encode categorical columns using one-hot encoding\n",
    "encoder = OneHotEncoder(drop='first', sparse=False)  # drop='first' to avoid multicollinearity\n",
    "X_categorical_encoded = encoder.fit_transform(admissions_sub_cleaned[categorical_columns])\n",
    "X_categorical_encoded_df = pd.DataFrame(X_categorical_encoded, columns=encoder.get_feature_names_out())\n",
    "\n",
    "# Select numerical columns\n",
    "numerical_columns = admissions_sub_cleaned.select_dtypes(include=['float64', 'int64']).columns.tolist()\n",
    "\n",
    "# Concatenate encoded categorical columns and numerical columns\n",
    "X = pd.concat([admissions_sub_cleaned[numerical_columns].reset_index(), X_categorical_encoded_df.reset_index()], axis=1)\n",
    "X.columns = X.columns.astype(str)\n",
    "\n",
    "# Target variable\n",
    "y = admissions_sub_cleaned['bar_passed']\n",
    "\n",
    "# Apply SMOTE to generate synthetic data\n",
    "smote = SMOTE(sampling_strategy = 'all')\n",
    "X_synthetic, y_synthetic = smote.fit_resample(X, y)\n",
    "\n",
    "# Concatenate synthetic features and target variable into a DataFrame\n",
    "synthetic_data_SMOTE = pd.concat([pd.DataFrame(X_synthetic, columns=X.columns).reset_index(), pd.Series(y_synthetic, name='bar_passed').reset_index()], axis=1)\n",
    "synthetic_data_SMOTE = synthetic_data_SMOTE.loc[:,~synthetic_data_SMOTE.columns.duplicated()].copy()\n",
    "real_data_SMOTE = pd.concat([X.reset_index(), pd.Series(y, name='bar_passed').reset_index()], axis=1)\n",
    "real_data_SMOTE = real_data_SMOTE.loc[:,~real_data_SMOTE.columns.duplicated()].copy()\n",
    "\n",
    "\n"
   ]
  },
  {
   "cell_type": "code",
   "execution_count": null,
   "metadata": {},
   "outputs": [],
   "source": [
    "print(X.shape)\n",
    "print(y.shape)"
   ]
  },
  {
   "cell_type": "code",
   "execution_count": null,
   "metadata": {},
   "outputs": [],
   "source": [
    "print(real_data_SMOTE.shape)\n",
    "display(real_data_SMOTE.head())"
   ]
  },
  {
   "cell_type": "code",
   "execution_count": null,
   "metadata": {},
   "outputs": [],
   "source": [
    "print(synthetic_data_SMOTE.shape)\n",
    "display(synthetic_data_SMOTE.head())"
   ]
  },
  {
   "cell_type": "code",
   "execution_count": null,
   "metadata": {},
   "outputs": [],
   "source": [
    "admissions_sub_cleaned.columns.values"
   ]
  },
  {
   "cell_type": "code",
   "execution_count": null,
   "metadata": {},
   "outputs": [],
   "source": [
    "real_data_SMOTE.head()"
   ]
  },
  {
   "cell_type": "code",
   "execution_count": null,
   "metadata": {},
   "outputs": [],
   "source": [
    "metadata_SMOTE = SingleTableMetadata()\n",
    "metadata_SMOTE.detect_from_dataframe(real_data_SMOTE)"
   ]
  },
  {
   "cell_type": "code",
   "execution_count": null,
   "metadata": {},
   "outputs": [],
   "source": [
    "diagnostic_SMOTE = run_diagnostic(\n",
    "    real_data=real_data_SMOTE,\n",
    "    synthetic_data=synthetic_data_SMOTE, \n",
    "    metadata = metadata_SMOTE\n",
    ")"
   ]
  },
  {
   "cell_type": "code",
   "execution_count": null,
   "metadata": {},
   "outputs": [],
   "source": [
    "quality_report_SMOTE = evaluate_quality(\n",
    "    real_data_SMOTE,\n",
    "    synthetic_data_SMOTE,\n",
    "     metadata_SMOTE\n",
    ")"
   ]
  },
  {
   "cell_type": "code",
   "execution_count": null,
   "metadata": {},
   "outputs": [],
   "source": [
    "quality_report_SMOTE.get_details('Column Shapes')"
   ]
  },
  {
   "cell_type": "code",
   "execution_count": null,
   "metadata": {},
   "outputs": [],
   "source": [
    "fig = get_column_plot(\n",
    "    real_data=real_data_SMOTE,\n",
    "    synthetic_data=synthetic_data_SMOTE,\n",
    "    column_name='bar_passed'\n",
    ")\n",
    "\n",
    "fig.show()"
   ]
  },
  {
   "cell_type": "code",
   "execution_count": null,
   "metadata": {},
   "outputs": [],
   "source": [
    "fig = get_column_plot(\n",
    "    real_data=real_data_SMOTE,\n",
    "    synthetic_data=synthetic_data_SMOTE,\n",
    "    column_name='ugpa'\n",
    ")\n",
    "\n",
    "fig.show()"
   ]
  }
 ],
 "metadata": {
  "kernelspec": {
   "display_name": "AlgorithmAudit",
   "language": "python",
   "name": "python3"
  },
  "language_info": {
   "codemirror_mode": {
    "name": "ipython",
    "version": 3
   },
   "file_extension": ".py",
   "mimetype": "text/x-python",
   "name": "python",
   "nbconvert_exporter": "python",
   "pygments_lexer": "ipython3",
   "version": "3.11.8"
  }
 },
 "nbformat": 4,
 "nbformat_minor": 2
}
