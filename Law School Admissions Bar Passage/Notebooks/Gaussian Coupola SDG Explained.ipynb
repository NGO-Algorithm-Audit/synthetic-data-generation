{
 "cells": [
  {
   "cell_type": "markdown",
   "metadata": {},
   "source": [
    "# Applying Gaussian Coupola SDG Method on Law School Admissions Bar Passage Dataset\n",
    "\n",
    "\n",
    "\n",
    "## Description of the nootebook\n",
    "\n",
    "In this notebook, synthetic data is generated for Law School Admissions dataset. A Law School Admissions dataset from the Law School Admissions Council (LSAC). From 1991 through 1997, LSAC tracked some twenty-seven thousand law students through law school, graduation, and sittings for bar exams. The result was the most comprehensive database that exists on the demography, experiences, and outcomes of a large cohort of aspiring lawyers. While the data has important limitations, it is a unique and very valuable source for studying a range of issues related to legal education. The dataset was originally collected for a study called 'LSAC National Longitudinal Bar Passage Study' by Linda Wightman in 1998.\n",
    "\n",
    "##### dataset source: https://www.kaggle.com/datasets/danofer/law-school-admissions-bar-passage/data\n"
   ]
  },
  {
   "cell_type": "markdown",
   "metadata": {},
   "source": [
    "## Table of contents\n",
    "\n",
    "0. Import libraries and data\n",
    "1. Data description\n",
    "2. Data cleaning\n",
    "3. Correlation plot\n",
    "4. Creating metadata\n",
    "5. Gaussian copula fitting\n",
    "6. Evaluating produced synthetic data"
   ]
  },
  {
   "cell_type": "markdown",
   "metadata": {},
   "source": [
    "## 0. Import libraries and data"
   ]
  },
  {
   "cell_type": "code",
   "execution_count": 1,
   "metadata": {},
   "outputs": [
    {
     "name": "stdout",
     "output_type": "stream",
     "text": [
      "libraries imported\n"
     ]
    }
   ],
   "source": [
    "import json\n",
    "import warnings\n",
    "import numpy as np\n",
    "import pandas as pd\n",
    "import seaborn as sns\n",
    "import matplotlib.pyplot as plt\n",
    "from sdv.metadata import SingleTableMetadata, MultiTableMetadata\n",
    "from sklearn.preprocessing import OneHotEncoder\n",
    "from sdv.single_table import GaussianCopulaSynthesizer\n",
    "from sdmetrics.reports.single_table import QualityReport\n",
    "from sdmetrics.visualization import get_column_plot,set_plotly_config\n",
    "from sdv.evaluation.single_table import run_diagnostic, evaluate_quality\n",
    "from sdmetrics.single_table import BinaryAdaBoostClassifier, CategoricalCAP, CategoricalEnsemble, NumericalSVR\n",
    "from sklearn.metrics import f1_score, roc_auc_score, accuracy_score\n",
    "warnings.filterwarnings('ignore')\n",
    "\n",
    "print('libraries imported')"
   ]
  },
  {
   "cell_type": "code",
   "execution_count": 2,
   "metadata": {},
   "outputs": [],
   "source": [
    "#load the dataset\n",
    "dataset_path = '../Dataset/bar_pass_prediction.csv'\n",
    "original_data = pd.read_csv(dataset_path)\n",
    "# Make a copy of the dataset\n",
    "data_full = original_data.copy()"
   ]
  },
  {
   "cell_type": "markdown",
   "metadata": {},
   "source": [
    "There are many features but we will keep only the following in the upcoming exploration:\n",
    "\n",
    "ugpa - This one stands for undergraduate gpa. Every other feature with gpa in it either perfectly correlates or perfectly negatively correlates with ugpa and this is the one I decided to keep.\n",
    "\n",
    "decile1, decile1b, decile3 - These features represent the law school rankings by decile of each candidate in years 1 and 3 (and I’m assuming year one second semester, but I can’t be sure about that).\n",
    "\n",
    "lsat - This feature is obviously the LSAT score of each candidate, but oddly it’s not formatted in the 120 to 180 score range of the actual LSAT. That said it has a strong correlation to whether someone passed the bar and, well, the feature is called lsat!\n",
    "\n",
    "grad - This seems to be whether the student who took the bar exam graduated from law school. It’s a binary variable and there are very few 0s, so that makes the most sense. (Special kudos to the 65 students surveyed who didn’t graduate law school, but still managed to pass the bar!)\n",
    "\n",
    "fulltime - Was the student a full-time student.\n",
    "\n",
    "fam_inc - This feature is family income by quintile.\n",
    "\n",
    "tier - What tier law school did the student attend by quintile.\n",
    "\n",
    "race1 - Categorizes students by race. Of all the race variables this was the most complete, so it’s the one I kept. All the information contained in the other race variables are contained in race1.\n",
    "\n",
    "sex - student gender.\n",
    "\n",
    "pass_bar - This is the target variable. Did the student pass the bar."
   ]
  },
  {
   "cell_type": "markdown",
   "metadata": {},
   "source": [
    "## 1. Data description"
   ]
  },
  {
   "cell_type": "code",
   "execution_count": 3,
   "metadata": {},
   "outputs": [
    {
     "data": {
      "text/plain": [
       "Index(['decile1b', 'decile3', 'ID', 'decile1', 'sex', 'race', 'cluster',\n",
       "       'lsat', 'ugpa', 'zfygpa', 'DOB_yr', 'grad', 'zgpa', 'bar1', 'bar1_yr',\n",
       "       'bar2', 'bar2_yr', 'fulltime', 'fam_inc', 'age', 'gender', 'parttime',\n",
       "       'male', 'race1', 'race2', 'Dropout', 'other', 'asian', 'black', 'hisp',\n",
       "       'pass_bar', 'bar', 'bar_passed', 'tier', 'index6040', 'indxgrp',\n",
       "       'indxgrp2', 'dnn_bar_pass_prediction', 'gpa'],\n",
       "      dtype='object')"
      ]
     },
     "execution_count": 3,
     "metadata": {},
     "output_type": "execute_result"
    }
   ],
   "source": [
    "# Check all columns available\n",
    "data_full.columns"
   ]
  },
  {
   "cell_type": "code",
   "execution_count": 4,
   "metadata": {},
   "outputs": [],
   "source": [
    "# List of columns to keep\n",
    "columns_to_keep = [\n",
    "    'pass_bar',  'ugpa', 'decile1', 'decile1b',\n",
    "    'decile3', 'lsat', 'grad', 'fulltime', 'fam_inc',\n",
    "    'tier', 'race1', 'gender'\n",
    "]\n",
    "\n",
    "\n",
    "\n",
    "df = data_full[columns_to_keep]"
   ]
  },
  {
   "cell_type": "code",
   "execution_count": 5,
   "metadata": {},
   "outputs": [
    {
     "name": "stdout",
     "output_type": "stream",
     "text": [
      "(22407, 12)\n",
      "Index(['pass_bar', 'ugpa', 'decile1', 'decile1b', 'decile3', 'lsat', 'grad',\n",
      "       'fulltime', 'fam_inc', 'tier', 'race1', 'gender'],\n",
      "      dtype='object')\n"
     ]
    }
   ],
   "source": [
    "# Check the shape and names of the columns left\n",
    "print(df.shape)\n",
    "print(df.columns)"
   ]
  },
  {
   "cell_type": "markdown",
   "metadata": {},
   "source": [
    "## 2. Data cleaning"
   ]
  },
  {
   "cell_type": "code",
   "execution_count": 6,
   "metadata": {},
   "outputs": [
    {
     "name": "stdout",
     "output_type": "stream",
     "text": [
      "pass_bar       0\n",
      "ugpa           0\n",
      "decile1     1092\n",
      "decile1b    1604\n",
      "decile3     1604\n",
      "lsat           0\n",
      "grad           3\n",
      "fulltime      34\n",
      "fam_inc      289\n",
      "tier          96\n",
      "race1         16\n",
      "gender         5\n",
      "dtype: int64\n"
     ]
    }
   ],
   "source": [
    "# Check how many rows with missing values are there\n",
    "print(df.isnull().sum())\n"
   ]
  },
  {
   "cell_type": "code",
   "execution_count": 7,
   "metadata": {},
   "outputs": [
    {
     "data": {
      "text/html": [
       "<div>\n",
       "<style scoped>\n",
       "    .dataframe tbody tr th:only-of-type {\n",
       "        vertical-align: middle;\n",
       "    }\n",
       "\n",
       "    .dataframe tbody tr th {\n",
       "        vertical-align: top;\n",
       "    }\n",
       "\n",
       "    .dataframe thead th {\n",
       "        text-align: right;\n",
       "    }\n",
       "</style>\n",
       "<table border=\"1\" class=\"dataframe\">\n",
       "  <thead>\n",
       "    <tr style=\"text-align: right;\">\n",
       "      <th></th>\n",
       "      <th>pass_bar</th>\n",
       "      <th>ugpa</th>\n",
       "      <th>decile1</th>\n",
       "      <th>decile1b</th>\n",
       "      <th>decile3</th>\n",
       "      <th>lsat</th>\n",
       "      <th>grad</th>\n",
       "      <th>fulltime</th>\n",
       "      <th>fam_inc</th>\n",
       "      <th>tier</th>\n",
       "      <th>race1</th>\n",
       "      <th>gender</th>\n",
       "    </tr>\n",
       "  </thead>\n",
       "  <tbody>\n",
       "    <tr>\n",
       "      <th>0</th>\n",
       "      <td>1</td>\n",
       "      <td>3.5</td>\n",
       "      <td>10.0</td>\n",
       "      <td>10.0</td>\n",
       "      <td>10.0</td>\n",
       "      <td>44.0</td>\n",
       "      <td>Y</td>\n",
       "      <td>1.0</td>\n",
       "      <td>5.0</td>\n",
       "      <td>4.0</td>\n",
       "      <td>white</td>\n",
       "      <td>female</td>\n",
       "    </tr>\n",
       "    <tr>\n",
       "      <th>1</th>\n",
       "      <td>1</td>\n",
       "      <td>3.5</td>\n",
       "      <td>5.0</td>\n",
       "      <td>5.0</td>\n",
       "      <td>4.0</td>\n",
       "      <td>29.0</td>\n",
       "      <td>Y</td>\n",
       "      <td>1.0</td>\n",
       "      <td>4.0</td>\n",
       "      <td>2.0</td>\n",
       "      <td>white</td>\n",
       "      <td>female</td>\n",
       "    </tr>\n",
       "    <tr>\n",
       "      <th>2</th>\n",
       "      <td>1</td>\n",
       "      <td>3.5</td>\n",
       "      <td>3.0</td>\n",
       "      <td>3.0</td>\n",
       "      <td>2.0</td>\n",
       "      <td>36.0</td>\n",
       "      <td>Y</td>\n",
       "      <td>1.0</td>\n",
       "      <td>1.0</td>\n",
       "      <td>3.0</td>\n",
       "      <td>white</td>\n",
       "      <td>male</td>\n",
       "    </tr>\n",
       "    <tr>\n",
       "      <th>3</th>\n",
       "      <td>1</td>\n",
       "      <td>3.5</td>\n",
       "      <td>7.0</td>\n",
       "      <td>7.0</td>\n",
       "      <td>4.0</td>\n",
       "      <td>39.0</td>\n",
       "      <td>Y</td>\n",
       "      <td>1.0</td>\n",
       "      <td>4.0</td>\n",
       "      <td>3.0</td>\n",
       "      <td>white</td>\n",
       "      <td>male</td>\n",
       "    </tr>\n",
       "    <tr>\n",
       "      <th>4</th>\n",
       "      <td>1</td>\n",
       "      <td>3.5</td>\n",
       "      <td>9.0</td>\n",
       "      <td>9.0</td>\n",
       "      <td>8.0</td>\n",
       "      <td>48.0</td>\n",
       "      <td>Y</td>\n",
       "      <td>1.0</td>\n",
       "      <td>4.0</td>\n",
       "      <td>5.0</td>\n",
       "      <td>white</td>\n",
       "      <td>male</td>\n",
       "    </tr>\n",
       "  </tbody>\n",
       "</table>\n",
       "</div>"
      ],
      "text/plain": [
       "   pass_bar  ugpa  decile1  decile1b  decile3  lsat grad  fulltime  fam_inc  \\\n",
       "0         1   3.5     10.0      10.0     10.0  44.0    Y       1.0      5.0   \n",
       "1         1   3.5      5.0       5.0      4.0  29.0    Y       1.0      4.0   \n",
       "2         1   3.5      3.0       3.0      2.0  36.0    Y       1.0      1.0   \n",
       "3         1   3.5      7.0       7.0      4.0  39.0    Y       1.0      4.0   \n",
       "4         1   3.5      9.0       9.0      8.0  48.0    Y       1.0      4.0   \n",
       "\n",
       "   tier  race1  gender  \n",
       "0   4.0  white  female  \n",
       "1   2.0  white  female  \n",
       "2   3.0  white    male  \n",
       "3   3.0  white    male  \n",
       "4   5.0  white    male  "
      ]
     },
     "metadata": {},
     "output_type": "display_data"
    }
   ],
   "source": [
    "# Inspect the dataframe\n",
    "display(df.head())"
   ]
  },
  {
   "cell_type": "code",
   "execution_count": 8,
   "metadata": {},
   "outputs": [
    {
     "name": "stdout",
     "output_type": "stream",
     "text": [
      "Removed 1895 rows with missing values.\n"
     ]
    }
   ],
   "source": [
    "# Remove all rows with missing values\n",
    "initial_row_count = df.shape[0]\n",
    "df = df.dropna()\n",
    "removed_rows = initial_row_count - df.shape[0]\n",
    "print(f\"Removed {removed_rows} rows with missing values.\")"
   ]
  },
  {
   "cell_type": "code",
   "execution_count": 9,
   "metadata": {},
   "outputs": [
    {
     "name": "stdout",
     "output_type": "stream",
     "text": [
      "(20512, 12)\n",
      "Index(['pass_bar', 'ugpa', 'decile1', 'decile1b', 'decile3', 'lsat', 'grad',\n",
      "       'fulltime', 'fam_inc', 'tier', 'race1', 'gender'],\n",
      "      dtype='object')\n",
      "pass_bar    0\n",
      "ugpa        0\n",
      "decile1     0\n",
      "decile1b    0\n",
      "decile3     0\n",
      "lsat        0\n",
      "grad        0\n",
      "fulltime    0\n",
      "fam_inc     0\n",
      "tier        0\n",
      "race1       0\n",
      "gender      0\n",
      "dtype: int64\n"
     ]
    }
   ],
   "source": [
    "# Check if all the rows with missing values are removed\n",
    "print(df.shape)\n",
    "print(df.columns)\n",
    "print(df.isnull().sum())\n"
   ]
  },
  {
   "cell_type": "code",
   "execution_count": 10,
   "metadata": {},
   "outputs": [
    {
     "data": {
      "text/html": [
       "<div>\n",
       "<style scoped>\n",
       "    .dataframe tbody tr th:only-of-type {\n",
       "        vertical-align: middle;\n",
       "    }\n",
       "\n",
       "    .dataframe tbody tr th {\n",
       "        vertical-align: top;\n",
       "    }\n",
       "\n",
       "    .dataframe thead th {\n",
       "        text-align: right;\n",
       "    }\n",
       "</style>\n",
       "<table border=\"1\" class=\"dataframe\">\n",
       "  <thead>\n",
       "    <tr style=\"text-align: right;\">\n",
       "      <th></th>\n",
       "      <th>pass_bar</th>\n",
       "      <th>ugpa</th>\n",
       "      <th>decile1</th>\n",
       "      <th>decile1b</th>\n",
       "      <th>decile3</th>\n",
       "      <th>lsat</th>\n",
       "      <th>grad</th>\n",
       "      <th>fulltime</th>\n",
       "      <th>fam_inc</th>\n",
       "      <th>tier</th>\n",
       "      <th>race1</th>\n",
       "      <th>gender</th>\n",
       "    </tr>\n",
       "  </thead>\n",
       "  <tbody>\n",
       "    <tr>\n",
       "      <th>0</th>\n",
       "      <td>1</td>\n",
       "      <td>3.5</td>\n",
       "      <td>10.0</td>\n",
       "      <td>10.0</td>\n",
       "      <td>10.0</td>\n",
       "      <td>44.0</td>\n",
       "      <td>Y</td>\n",
       "      <td>1.0</td>\n",
       "      <td>5.0</td>\n",
       "      <td>4.0</td>\n",
       "      <td>white</td>\n",
       "      <td>female</td>\n",
       "    </tr>\n",
       "    <tr>\n",
       "      <th>1</th>\n",
       "      <td>1</td>\n",
       "      <td>3.5</td>\n",
       "      <td>5.0</td>\n",
       "      <td>5.0</td>\n",
       "      <td>4.0</td>\n",
       "      <td>29.0</td>\n",
       "      <td>Y</td>\n",
       "      <td>1.0</td>\n",
       "      <td>4.0</td>\n",
       "      <td>2.0</td>\n",
       "      <td>white</td>\n",
       "      <td>female</td>\n",
       "    </tr>\n",
       "    <tr>\n",
       "      <th>2</th>\n",
       "      <td>1</td>\n",
       "      <td>3.5</td>\n",
       "      <td>3.0</td>\n",
       "      <td>3.0</td>\n",
       "      <td>2.0</td>\n",
       "      <td>36.0</td>\n",
       "      <td>Y</td>\n",
       "      <td>1.0</td>\n",
       "      <td>1.0</td>\n",
       "      <td>3.0</td>\n",
       "      <td>white</td>\n",
       "      <td>male</td>\n",
       "    </tr>\n",
       "    <tr>\n",
       "      <th>3</th>\n",
       "      <td>1</td>\n",
       "      <td>3.5</td>\n",
       "      <td>7.0</td>\n",
       "      <td>7.0</td>\n",
       "      <td>4.0</td>\n",
       "      <td>39.0</td>\n",
       "      <td>Y</td>\n",
       "      <td>1.0</td>\n",
       "      <td>4.0</td>\n",
       "      <td>3.0</td>\n",
       "      <td>white</td>\n",
       "      <td>male</td>\n",
       "    </tr>\n",
       "    <tr>\n",
       "      <th>4</th>\n",
       "      <td>1</td>\n",
       "      <td>3.5</td>\n",
       "      <td>9.0</td>\n",
       "      <td>9.0</td>\n",
       "      <td>8.0</td>\n",
       "      <td>48.0</td>\n",
       "      <td>Y</td>\n",
       "      <td>1.0</td>\n",
       "      <td>4.0</td>\n",
       "      <td>5.0</td>\n",
       "      <td>white</td>\n",
       "      <td>male</td>\n",
       "    </tr>\n",
       "  </tbody>\n",
       "</table>\n",
       "</div>"
      ],
      "text/plain": [
       "   pass_bar  ugpa  decile1  decile1b  decile3  lsat grad  fulltime  fam_inc  \\\n",
       "0         1   3.5     10.0      10.0     10.0  44.0    Y       1.0      5.0   \n",
       "1         1   3.5      5.0       5.0      4.0  29.0    Y       1.0      4.0   \n",
       "2         1   3.5      3.0       3.0      2.0  36.0    Y       1.0      1.0   \n",
       "3         1   3.5      7.0       7.0      4.0  39.0    Y       1.0      4.0   \n",
       "4         1   3.5      9.0       9.0      8.0  48.0    Y       1.0      4.0   \n",
       "\n",
       "   tier  race1  gender  \n",
       "0   4.0  white  female  \n",
       "1   2.0  white  female  \n",
       "2   3.0  white    male  \n",
       "3   3.0  white    male  \n",
       "4   5.0  white    male  "
      ]
     },
     "metadata": {},
     "output_type": "display_data"
    }
   ],
   "source": [
    "# Inspect the dataframe\n",
    "display(df.head())"
   ]
  },
  {
   "cell_type": "markdown",
   "metadata": {},
   "source": [
    "#### Convert ordinal numerical columns to catagorical"
   ]
  },
  {
   "cell_type": "code",
   "execution_count": 11,
   "metadata": {},
   "outputs": [
    {
     "name": "stdout",
     "output_type": "stream",
     "text": [
      "pass_bar      int64\n",
      "ugpa        float64\n",
      "decile1     float64\n",
      "decile1b    float64\n",
      "decile3     float64\n",
      "lsat        float64\n",
      "grad         object\n",
      "fulltime    float64\n",
      "fam_inc     float64\n",
      "tier        float64\n",
      "race1        object\n",
      "gender       object\n",
      "dtype: object\n"
     ]
    }
   ],
   "source": [
    "# Check types of columns\n",
    "print(df.dtypes)"
   ]
  },
  {
   "cell_type": "code",
   "execution_count": 12,
   "metadata": {},
   "outputs": [
    {
     "data": {
      "text/plain": [
       "pass_bar\n",
       "1    19469\n",
       "0     1043\n",
       "Name: count, dtype: int64"
      ]
     },
     "execution_count": 12,
     "metadata": {},
     "output_type": "execute_result"
    }
   ],
   "source": [
    "df['pass_bar'].value_counts()"
   ]
  },
  {
   "cell_type": "code",
   "execution_count": 13,
   "metadata": {},
   "outputs": [
    {
     "name": "stdout",
     "output_type": "stream",
     "text": [
      "pass_bar    category\n",
      "ugpa         float64\n",
      "decile1     category\n",
      "decile1b    category\n",
      "decile3     category\n",
      "lsat         float64\n",
      "grad        category\n",
      "fulltime    category\n",
      "fam_inc     category\n",
      "tier        category\n",
      "race1       category\n",
      "gender      category\n",
      "dtype: object\n"
     ]
    }
   ],
   "source": [
    "# Columns to convert to categorical\n",
    "columns_to_convert = ['grad', 'race1', 'gender','decile1', 'decile1b', 'decile3', 'fulltime', 'fam_inc', 'tier', 'pass_bar']\n",
    "\n",
    "# Convert columns to categorical\n",
    "for column in columns_to_convert:\n",
    "    df[column] = df[column].astype('category')\n",
    "\n",
    "# Verify changes\n",
    "print(df.dtypes)"
   ]
  },
  {
   "cell_type": "code",
   "execution_count": 14,
   "metadata": {},
   "outputs": [
    {
     "name": "stdout",
     "output_type": "stream",
     "text": [
      "Index(['pass_bar', 'decile1', 'decile1b', 'decile3', 'grad', 'fulltime',\n",
      "       'fam_inc', 'tier', 'race1', 'gender'],\n",
      "      dtype='object')\n"
     ]
    }
   ],
   "source": [
    "# Which colums are categorical\n",
    "categorical_columns = df.select_dtypes(include=['category'])\n",
    "print(categorical_columns.columns)"
   ]
  },
  {
   "cell_type": "markdown",
   "metadata": {},
   "source": [
    "## 3. Correlation plot"
   ]
  },
  {
   "cell_type": "markdown",
   "metadata": {},
   "source": [
    "#### Distinguish cetegorical and numerical columns"
   ]
  },
  {
   "cell_type": "code",
   "execution_count": 15,
   "metadata": {},
   "outputs": [
    {
     "name": "stdout",
     "output_type": "stream",
     "text": [
      "Value counts for column 'pass_bar':\n",
      "pass_bar\n",
      "1    19469\n",
      "0     1043\n",
      "Name: count, dtype: int64\n",
      "Value counts for column 'decile1':\n",
      "decile1\n",
      "6.0     2183\n",
      "5.0     2180\n",
      "7.0     2174\n",
      "8.0     2166\n",
      "9.0     2161\n",
      "10.0    2136\n",
      "4.0     2113\n",
      "3.0     2063\n",
      "2.0     1912\n",
      "1.0     1424\n",
      "Name: count, dtype: int64\n",
      "Value counts for column 'decile1b':\n",
      "decile1b\n",
      "5.0     2092\n",
      "7.0     2080\n",
      "6.0     2079\n",
      "9.0     2073\n",
      "8.0     2069\n",
      "3.0     2054\n",
      "4.0     2046\n",
      "10.0    2038\n",
      "2.0     2032\n",
      "1.0     1949\n",
      "Name: count, dtype: int64\n",
      "Value counts for column 'decile3':\n",
      "decile3\n",
      "5.0     2093\n",
      "7.0     2082\n",
      "9.0     2081\n",
      "4.0     2077\n",
      "3.0     2070\n",
      "6.0     2067\n",
      "8.0     2054\n",
      "10.0    2029\n",
      "2.0     2015\n",
      "1.0     1944\n",
      "Name: count, dtype: int64\n",
      "Value counts for column 'grad':\n",
      "grad\n",
      "Y    20512\n",
      "Name: count, dtype: int64\n",
      "Value counts for column 'fulltime':\n",
      "fulltime\n",
      "1.0    19009\n",
      "2.0     1503\n",
      "Name: count, dtype: int64\n",
      "Value counts for column 'fam_inc':\n",
      "fam_inc\n",
      "4.0    9076\n",
      "3.0    7349\n",
      "2.0    1987\n",
      "5.0    1684\n",
      "1.0     416\n",
      "Name: count, dtype: int64\n",
      "Value counts for column 'tier':\n",
      "tier\n",
      "3.0    7626\n",
      "4.0    5717\n",
      "5.0    3664\n",
      "2.0    1629\n",
      "6.0    1401\n",
      "1.0     475\n",
      "Name: count, dtype: int64\n",
      "Value counts for column 'race1':\n",
      "race1\n",
      "white    17211\n",
      "black     1202\n",
      "hisp       929\n",
      "asian      795\n",
      "other      375\n",
      "Name: count, dtype: int64\n",
      "Value counts for column 'gender':\n",
      "gender\n",
      "male      11555\n",
      "female     8957\n",
      "Name: count, dtype: int64\n"
     ]
    }
   ],
   "source": [
    "# Select only the categorical columns\n",
    "categorical_columns = df.select_dtypes(include=['category'])\n",
    "\n",
    "# Loop through each categorical column and print value counts\n",
    "for column in categorical_columns.columns:\n",
    "    print(f\"Value counts for column '{column}':\")\n",
    "    print(df[column].value_counts())"
   ]
  },
  {
   "cell_type": "code",
   "execution_count": 16,
   "metadata": {},
   "outputs": [
    {
     "data": {
      "image/png": "[encoded data removed]",
      "text/plain": [
       "<Figure size 2000x2000 with 2 Axes>"
      ]
     },
     "metadata": {},
     "output_type": "display_data"
    }
   ],
   "source": [
    "f,ax = plt.subplots(figsize=(20, 20))\n",
    "sns.heatmap(df.corr(numeric_only=True), annot=True, linewidths=.5, fmt= '.2f',ax=ax)\n",
    "plt.show()"
   ]
  },
  {
   "cell_type": "markdown",
   "metadata": {},
   "source": [
    "## 4. Creating metadata"
   ]
  },
  {
   "cell_type": "markdown",
   "metadata": {},
   "source": [
    "##### Creating the metadata is necessary for sdv package which we will use for the Gaussian copula. This metadata contains a representation of the column types and the type of data used. "
   ]
  },
  {
   "cell_type": "code",
   "execution_count": 17,
   "metadata": {},
   "outputs": [],
   "source": [
    "# initializing metadata generator\n",
    "metadata = SingleTableMetadata()\n",
    "metadata.detect_from_dataframe(df)"
   ]
  },
  {
   "cell_type": "code",
   "execution_count": 18,
   "metadata": {},
   "outputs": [],
   "source": [
    "metadata.validate()\n",
    "#metadata.save_to_json('PLA_metadata.json') #uncomment this is you do not have it yet"
   ]
  },
  {
   "cell_type": "markdown",
   "metadata": {},
   "source": [
    "## 5. Gaussian Copula fitting"
   ]
  },
  {
   "cell_type": "markdown",
   "metadata": {},
   "source": [
    "A copula is a multivariate CDF, with uniform distributed marginals. This means that it encapsulates the joint distribution of the data. Our goal in using a copula for synthetic data generation, is to understand the joint distribution of the data and then generate samples from that joint distribution. "
   ]
  },
  {
   "cell_type": "markdown",
   "metadata": {},
   "source": [
    "The copula does not assume a specific form for the marginal distributions of each column, and allows us to seperate the estimation of the marginal distributions from that of the joint distribution. It works in two steps:\n",
    "\n",
    " * In a first step, the marginal distribution of each column is estimated, by using a Gaussian kernel density function (gaussian_kde). The samples are then transformed to a uniform distribution by using the probability integral transformation. \n",
    " * In a second step, a joint Gaussian distribution is fitted on the (pseudo) transformed samples. "
   ]
  },
  {
   "cell_type": "markdown",
   "metadata": {},
   "source": [
    "By using a Gaussian copula, we are making some assumptions about the dependence structure of the data. In particular, regarding tail dependence, and how likely it is to have extreme values for the numeric variables happen at the same time. "
   ]
  },
  {
   "cell_type": "markdown",
   "metadata": {},
   "source": [
    "Produce the synthetic data using a Gaussian Coupola"
   ]
  },
  {
   "cell_type": "code",
   "execution_count": 19,
   "metadata": {},
   "outputs": [],
   "source": [
    "# GC fitting\n",
    "synthesizer = GaussianCopulaSynthesizer(metadata,  default_distribution=\"gaussian_kde\")\n",
    "synthesizer.fit(df)"
   ]
  },
  {
   "cell_type": "markdown",
   "metadata": {},
   "source": [
    "Once the copula is fitted to the original data, we can sample as many synthetic data points as we want from the joint CDF. "
   ]
  },
  {
   "cell_type": "code",
   "execution_count": 20,
   "metadata": {},
   "outputs": [
    {
     "data": {
      "text/html": [
       "<div>\n",
       "<style scoped>\n",
       "    .dataframe tbody tr th:only-of-type {\n",
       "        vertical-align: middle;\n",
       "    }\n",
       "\n",
       "    .dataframe tbody tr th {\n",
       "        vertical-align: top;\n",
       "    }\n",
       "\n",
       "    .dataframe thead th {\n",
       "        text-align: right;\n",
       "    }\n",
       "</style>\n",
       "<table border=\"1\" class=\"dataframe\">\n",
       "  <thead>\n",
       "    <tr style=\"text-align: right;\">\n",
       "      <th></th>\n",
       "      <th>pass_bar</th>\n",
       "      <th>ugpa</th>\n",
       "      <th>decile1</th>\n",
       "      <th>decile1b</th>\n",
       "      <th>decile3</th>\n",
       "      <th>lsat</th>\n",
       "      <th>grad</th>\n",
       "      <th>fulltime</th>\n",
       "      <th>fam_inc</th>\n",
       "      <th>tier</th>\n",
       "      <th>race1</th>\n",
       "      <th>gender</th>\n",
       "    </tr>\n",
       "  </thead>\n",
       "  <tbody>\n",
       "    <tr>\n",
       "      <th>0</th>\n",
       "      <td>1</td>\n",
       "      <td>3.6</td>\n",
       "      <td>2.0</td>\n",
       "      <td>8.0</td>\n",
       "      <td>6.0</td>\n",
       "      <td>37.5</td>\n",
       "      <td>Y</td>\n",
       "      <td>1.0</td>\n",
       "      <td>3.0</td>\n",
       "      <td>3.0</td>\n",
       "      <td>white</td>\n",
       "      <td>male</td>\n",
       "    </tr>\n",
       "    <tr>\n",
       "      <th>1</th>\n",
       "      <td>1</td>\n",
       "      <td>2.9</td>\n",
       "      <td>9.0</td>\n",
       "      <td>8.0</td>\n",
       "      <td>6.0</td>\n",
       "      <td>32.0</td>\n",
       "      <td>Y</td>\n",
       "      <td>1.0</td>\n",
       "      <td>4.0</td>\n",
       "      <td>3.0</td>\n",
       "      <td>white</td>\n",
       "      <td>male</td>\n",
       "    </tr>\n",
       "    <tr>\n",
       "      <th>2</th>\n",
       "      <td>0</td>\n",
       "      <td>2.4</td>\n",
       "      <td>2.0</td>\n",
       "      <td>8.0</td>\n",
       "      <td>9.0</td>\n",
       "      <td>30.3</td>\n",
       "      <td>Y</td>\n",
       "      <td>1.0</td>\n",
       "      <td>4.0</td>\n",
       "      <td>3.0</td>\n",
       "      <td>white</td>\n",
       "      <td>male</td>\n",
       "    </tr>\n",
       "    <tr>\n",
       "      <th>3</th>\n",
       "      <td>1</td>\n",
       "      <td>3.7</td>\n",
       "      <td>7.0</td>\n",
       "      <td>5.0</td>\n",
       "      <td>2.0</td>\n",
       "      <td>34.6</td>\n",
       "      <td>Y</td>\n",
       "      <td>1.0</td>\n",
       "      <td>4.0</td>\n",
       "      <td>4.0</td>\n",
       "      <td>white</td>\n",
       "      <td>female</td>\n",
       "    </tr>\n",
       "    <tr>\n",
       "      <th>4</th>\n",
       "      <td>1</td>\n",
       "      <td>3.7</td>\n",
       "      <td>5.0</td>\n",
       "      <td>9.0</td>\n",
       "      <td>6.0</td>\n",
       "      <td>35.6</td>\n",
       "      <td>Y</td>\n",
       "      <td>1.0</td>\n",
       "      <td>4.0</td>\n",
       "      <td>3.0</td>\n",
       "      <td>white</td>\n",
       "      <td>male</td>\n",
       "    </tr>\n",
       "  </tbody>\n",
       "</table>\n",
       "</div>"
      ],
      "text/plain": [
       "  pass_bar  ugpa decile1 decile1b decile3  lsat grad fulltime fam_inc tier  \\\n",
       "0        1   3.6     2.0      8.0     6.0  37.5    Y      1.0     3.0  3.0   \n",
       "1        1   2.9     9.0      8.0     6.0  32.0    Y      1.0     4.0  3.0   \n",
       "2        0   2.4     2.0      8.0     9.0  30.3    Y      1.0     4.0  3.0   \n",
       "3        1   3.7     7.0      5.0     2.0  34.6    Y      1.0     4.0  4.0   \n",
       "4        1   3.7     5.0      9.0     6.0  35.6    Y      1.0     4.0  3.0   \n",
       "\n",
       "   race1  gender  \n",
       "0  white    male  \n",
       "1  white    male  \n",
       "2  white    male  \n",
       "3  white  female  \n",
       "4  white    male  "
      ]
     },
     "execution_count": 20,
     "metadata": {},
     "output_type": "execute_result"
    }
   ],
   "source": [
    "# create synthetic data and preview head\n",
    "synthetic_data_GC = synthesizer.sample(num_rows=2000) # 20512 rows originally\n",
    "synthetic_data_GC.head()"
   ]
  },
  {
   "cell_type": "code",
   "execution_count": 21,
   "metadata": {},
   "outputs": [],
   "source": [
    "# store synthetic data\n",
    "synthetic_data_GC.to_csv('C:/Users/20181588/Desktop/AA SDG/synthetic-data-generation/Law School Admissions Bar Passage/Dataset/bar_pass_prediction_SD2k.csv')"
   ]
  },
  {
   "cell_type": "markdown",
   "metadata": {},
   "source": [
    "## 6. Evaluating produced synthetic data"
   ]
  },
  {
   "cell_type": "markdown",
   "metadata": {},
   "source": [
    "The diagnostic reports data qvalidity and structure. Data validity means that primary keys must be unique and non-null; continuous values in the synthetic data must adhere to the min/max range in the real data; discrete values in the synthetic data must adhere to the same categories as the real data. Data structure checks that the real and synthtetic data have the same column names. "
   ]
  },
  {
   "cell_type": "code",
   "execution_count": 22,
   "metadata": {},
   "outputs": [
    {
     "name": "stdout",
     "output_type": "stream",
     "text": [
      "Generating report ...\n",
      "(1/2) Evaluating Data Validity: : 100%|██████████| 12/12 [00:00<00:00, 361.69it/s]\n",
      "(2/2) Evaluating Data Structure: : 100%|██████████| 1/1 [00:00<00:00, 104.83it/s]\n",
      "\n",
      "Overall Score: 100.0%\n",
      "\n",
      "Properties:\n",
      "- Data Validity: 100.0%\n",
      "- Data Structure: 100.0%\n"
     ]
    }
   ],
   "source": [
    "# check on structure of data\n",
    "diagnostic = run_diagnostic(\n",
    "    real_data=df,\n",
    "    synthetic_data=synthetic_data_GC,\n",
    "    metadata=metadata\n",
    ")"
   ]
  },
  {
   "cell_type": "markdown",
   "metadata": {},
   "source": [
    "The column shape checks how close the marginal distributions for the real and synthetic data are. column pair trendschecks the statistical similarity between pairs of columns in the real and synthetic data. "
   ]
  },
  {
   "cell_type": "code",
   "execution_count": 23,
   "metadata": {},
   "outputs": [
    {
     "name": "stdout",
     "output_type": "stream",
     "text": [
      "Generating report ...\n",
      "(1/2) Evaluating Column Shapes: : 100%|██████████| 12/12 [00:00<00:00, 156.48it/s]\n",
      "(2/2) Evaluating Column Pair Trends: : 100%|██████████| 66/66 [00:02<00:00, 25.07it/s]\n",
      "\n",
      "Overall Score: 78.78%\n",
      "\n",
      "Properties:\n",
      "- Column Shapes: 95.65%\n",
      "- Column Pair Trends: 61.91%\n"
     ]
    }
   ],
   "source": [
    "# check on univariate and bivariate distributions\n",
    "quality_report = evaluate_quality(\n",
    "    df,\n",
    "    synthetic_data_GC,\n",
    "    metadata\n",
    ")"
   ]
  },
  {
   "cell_type": "code",
   "execution_count": 24,
   "metadata": {},
   "outputs": [
    {
     "data": {
      "text/html": [
       "<div>\n",
       "<style scoped>\n",
       "    .dataframe tbody tr th:only-of-type {\n",
       "        vertical-align: middle;\n",
       "    }\n",
       "\n",
       "    .dataframe tbody tr th {\n",
       "        vertical-align: top;\n",
       "    }\n",
       "\n",
       "    .dataframe thead th {\n",
       "        text-align: right;\n",
       "    }\n",
       "</style>\n",
       "<table border=\"1\" class=\"dataframe\">\n",
       "  <thead>\n",
       "    <tr style=\"text-align: right;\">\n",
       "      <th></th>\n",
       "      <th>Column</th>\n",
       "      <th>Metric</th>\n",
       "      <th>Score</th>\n",
       "    </tr>\n",
       "  </thead>\n",
       "  <tbody>\n",
       "    <tr>\n",
       "      <th>0</th>\n",
       "      <td>pass_bar</td>\n",
       "      <td>TVComplement</td>\n",
       "      <td>0.997152</td>\n",
       "    </tr>\n",
       "    <tr>\n",
       "      <th>1</th>\n",
       "      <td>ugpa</td>\n",
       "      <td>KSComplement</td>\n",
       "      <td>0.987996</td>\n",
       "    </tr>\n",
       "    <tr>\n",
       "      <th>2</th>\n",
       "      <td>decile1</td>\n",
       "      <td>TVComplement</td>\n",
       "      <td>0.899846</td>\n",
       "    </tr>\n",
       "    <tr>\n",
       "      <th>3</th>\n",
       "      <td>decile1b</td>\n",
       "      <td>TVComplement</td>\n",
       "      <td>0.935960</td>\n",
       "    </tr>\n",
       "    <tr>\n",
       "      <th>4</th>\n",
       "      <td>decile3</td>\n",
       "      <td>TVComplement</td>\n",
       "      <td>0.907595</td>\n",
       "    </tr>\n",
       "    <tr>\n",
       "      <th>5</th>\n",
       "      <td>lsat</td>\n",
       "      <td>KSComplement</td>\n",
       "      <td>0.954037</td>\n",
       "    </tr>\n",
       "    <tr>\n",
       "      <th>6</th>\n",
       "      <td>grad</td>\n",
       "      <td>TVComplement</td>\n",
       "      <td>1.000000</td>\n",
       "    </tr>\n",
       "    <tr>\n",
       "      <th>7</th>\n",
       "      <td>fulltime</td>\n",
       "      <td>TVComplement</td>\n",
       "      <td>0.989726</td>\n",
       "    </tr>\n",
       "    <tr>\n",
       "      <th>8</th>\n",
       "      <td>fam_inc</td>\n",
       "      <td>TVComplement</td>\n",
       "      <td>0.941751</td>\n",
       "    </tr>\n",
       "    <tr>\n",
       "      <th>9</th>\n",
       "      <td>tier</td>\n",
       "      <td>TVComplement</td>\n",
       "      <td>0.938715</td>\n",
       "    </tr>\n",
       "    <tr>\n",
       "      <th>10</th>\n",
       "      <td>race1</td>\n",
       "      <td>TVComplement</td>\n",
       "      <td>0.983670</td>\n",
       "    </tr>\n",
       "    <tr>\n",
       "      <th>11</th>\n",
       "      <td>gender</td>\n",
       "      <td>TVComplement</td>\n",
       "      <td>0.941171</td>\n",
       "    </tr>\n",
       "  </tbody>\n",
       "</table>\n",
       "</div>"
      ],
      "text/plain": [
       "      Column        Metric     Score\n",
       "0   pass_bar  TVComplement  0.997152\n",
       "1       ugpa  KSComplement  0.987996\n",
       "2    decile1  TVComplement  0.899846\n",
       "3   decile1b  TVComplement  0.935960\n",
       "4    decile3  TVComplement  0.907595\n",
       "5       lsat  KSComplement  0.954037\n",
       "6       grad  TVComplement  1.000000\n",
       "7   fulltime  TVComplement  0.989726\n",
       "8    fam_inc  TVComplement  0.941751\n",
       "9       tier  TVComplement  0.938715\n",
       "10     race1  TVComplement  0.983670\n",
       "11    gender  TVComplement  0.941171"
      ]
     },
     "execution_count": 24,
     "metadata": {},
     "output_type": "execute_result"
    }
   ],
   "source": [
    "# univariate quality report\n",
    "quality_report.get_details('Column Shapes')"
   ]
  },
  {
   "cell_type": "markdown",
   "metadata": {},
   "source": [
    "For numerical columns, The KSComplement returns 1-(KS statistics) where the Kolmogorov Smirnov (KS) statistic is the maximal difference between the CDF of the variable in the original and the synthetic data. A value close to 1 represents a better fit.\n",
    "\n",
    "For categorical columns, The TVComplement returns 1 - (TV Distance), where the Total Variation Distance measures the relative frequencies of the categories of a given variable in the original and the synthetic data. A value close to 1 represents a better fit"
   ]
  },
  {
   "cell_type": "code",
   "execution_count": 25,
   "metadata": {},
   "outputs": [
    {
     "data": {
      "text/html": [
       "<iframe\n",
       "    scrolling=\"no\"\n",
       "    width=\"100%\"\n",
       "    height=\"545px\"\n",
       "    src=\"iframe_figures/figure_25.html\"\n",
       "    frameborder=\"0\"\n",
       "    allowfullscreen\n",
       "></iframe>\n"
      ]
     },
     "metadata": {},
     "output_type": "display_data"
    }
   ],
   "source": [
    "fig = get_column_plot(\n",
    "    real_data=df,\n",
    "    synthetic_data=synthetic_data_GC,\n",
    "    column_name='ugpa'\n",
    ")\n",
    "\n",
    "fig.show()"
   ]
  },
  {
   "cell_type": "code",
   "execution_count": 26,
   "metadata": {},
   "outputs": [
    {
     "data": {
      "text/html": [
       "<iframe\n",
       "    scrolling=\"no\"\n",
       "    width=\"100%\"\n",
       "    height=\"545px\"\n",
       "    src=\"iframe_figures/figure_26.html\"\n",
       "    frameborder=\"0\"\n",
       "    allowfullscreen\n",
       "></iframe>\n"
      ]
     },
     "metadata": {},
     "output_type": "display_data"
    }
   ],
   "source": [
    "fig = get_column_plot(\n",
    "    real_data=df,\n",
    "    synthetic_data=synthetic_data_GC,\n",
    "    column_name='lsat'\n",
    ")\n",
    "\n",
    "fig.show()"
   ]
  },
  {
   "cell_type": "code",
   "execution_count": 27,
   "metadata": {},
   "outputs": [
    {
     "data": {
      "text/html": [
       "<iframe\n",
       "    scrolling=\"no\"\n",
       "    width=\"100%\"\n",
       "    height=\"545px\"\n",
       "    src=\"iframe_figures/figure_27.html\"\n",
       "    frameborder=\"0\"\n",
       "    allowfullscreen\n",
       "></iframe>\n"
      ]
     },
     "metadata": {},
     "output_type": "display_data"
    }
   ],
   "source": [
    "fig = get_column_plot(\n",
    "    real_data=df,\n",
    "    synthetic_data=synthetic_data_GC,\n",
    "    column_name='pass_bar'\n",
    ")\n",
    "\n",
    "fig.show()"
   ]
  },
  {
   "cell_type": "code",
   "execution_count": 28,
   "metadata": {},
   "outputs": [
    {
     "data": {
      "text/html": [
       "<iframe\n",
       "    scrolling=\"no\"\n",
       "    width=\"100%\"\n",
       "    height=\"545px\"\n",
       "    src=\"iframe_figures/figure_28.html\"\n",
       "    frameborder=\"0\"\n",
       "    allowfullscreen\n",
       "></iframe>\n"
      ]
     },
     "metadata": {},
     "output_type": "display_data"
    }
   ],
   "source": [
    "fig = get_column_plot(\n",
    "    real_data=df,\n",
    "    synthetic_data=synthetic_data_GC,\n",
    "    column_name='decile1'\n",
    ")\n",
    "\n",
    "fig.show()"
   ]
  },
  {
   "cell_type": "code",
   "execution_count": 29,
   "metadata": {},
   "outputs": [
    {
     "data": {
      "text/html": [
       "<iframe\n",
       "    scrolling=\"no\"\n",
       "    width=\"100%\"\n",
       "    height=\"545px\"\n",
       "    src=\"iframe_figures/figure_29.html\"\n",
       "    frameborder=\"0\"\n",
       "    allowfullscreen\n",
       "></iframe>\n"
      ]
     },
     "metadata": {},
     "output_type": "display_data"
    }
   ],
   "source": [
    "fig = get_column_plot(\n",
    "    real_data=df,\n",
    "    synthetic_data=synthetic_data_GC,\n",
    "    column_name='decile1b'\n",
    ")\n",
    "\n",
    "fig.show()"
   ]
  },
  {
   "cell_type": "code",
   "execution_count": 30,
   "metadata": {},
   "outputs": [
    {
     "data": {
      "text/html": [
       "<iframe\n",
       "    scrolling=\"no\"\n",
       "    width=\"100%\"\n",
       "    height=\"545px\"\n",
       "    src=\"iframe_figures/figure_30.html\"\n",
       "    frameborder=\"0\"\n",
       "    allowfullscreen\n",
       "></iframe>\n"
      ]
     },
     "metadata": {},
     "output_type": "display_data"
    }
   ],
   "source": [
    "fig = get_column_plot(\n",
    "    real_data=df,\n",
    "    synthetic_data=synthetic_data_GC,\n",
    "    column_name='decile3'\n",
    ")\n",
    "\n",
    "fig.show()"
   ]
  },
  {
   "cell_type": "code",
   "execution_count": 31,
   "metadata": {},
   "outputs": [
    {
     "data": {
      "text/html": [
       "<iframe\n",
       "    scrolling=\"no\"\n",
       "    width=\"100%\"\n",
       "    height=\"545px\"\n",
       "    src=\"iframe_figures/figure_31.html\"\n",
       "    frameborder=\"0\"\n",
       "    allowfullscreen\n",
       "></iframe>\n"
      ]
     },
     "metadata": {},
     "output_type": "display_data"
    }
   ],
   "source": [
    "fig = get_column_plot(\n",
    "    real_data=df,\n",
    "    synthetic_data=synthetic_data_GC,\n",
    "    column_name='grad'\n",
    ")\n",
    "\n",
    "fig.show()"
   ]
  },
  {
   "cell_type": "code",
   "execution_count": 32,
   "metadata": {},
   "outputs": [
    {
     "data": {
      "text/html": [
       "<iframe\n",
       "    scrolling=\"no\"\n",
       "    width=\"100%\"\n",
       "    height=\"545px\"\n",
       "    src=\"iframe_figures/figure_32.html\"\n",
       "    frameborder=\"0\"\n",
       "    allowfullscreen\n",
       "></iframe>\n"
      ]
     },
     "metadata": {},
     "output_type": "display_data"
    }
   ],
   "source": [
    "fig = get_column_plot(\n",
    "    real_data=df,\n",
    "    synthetic_data=synthetic_data_GC,\n",
    "    column_name='fulltime'\n",
    ")\n",
    "\n",
    "fig.show()"
   ]
  },
  {
   "cell_type": "code",
   "execution_count": 33,
   "metadata": {},
   "outputs": [
    {
     "data": {
      "text/html": [
       "<iframe\n",
       "    scrolling=\"no\"\n",
       "    width=\"100%\"\n",
       "    height=\"545px\"\n",
       "    src=\"iframe_figures/figure_33.html\"\n",
       "    frameborder=\"0\"\n",
       "    allowfullscreen\n",
       "></iframe>\n"
      ]
     },
     "metadata": {},
     "output_type": "display_data"
    }
   ],
   "source": [
    "fig = get_column_plot(\n",
    "    real_data=df,\n",
    "    synthetic_data=synthetic_data_GC,\n",
    "    column_name='fam_inc'\n",
    ")\n",
    "\n",
    "fig.show()"
   ]
  },
  {
   "cell_type": "code",
   "execution_count": 34,
   "metadata": {},
   "outputs": [
    {
     "data": {
      "text/html": [
       "<iframe\n",
       "    scrolling=\"no\"\n",
       "    width=\"100%\"\n",
       "    height=\"545px\"\n",
       "    src=\"iframe_figures/figure_34.html\"\n",
       "    frameborder=\"0\"\n",
       "    allowfullscreen\n",
       "></iframe>\n"
      ]
     },
     "metadata": {},
     "output_type": "display_data"
    }
   ],
   "source": [
    "fig = get_column_plot(\n",
    "    real_data=df,\n",
    "    synthetic_data=synthetic_data_GC,\n",
    "    column_name='tier'\n",
    ")\n",
    "\n",
    "fig.show()"
   ]
  },
  {
   "cell_type": "code",
   "execution_count": 35,
   "metadata": {},
   "outputs": [
    {
     "data": {
      "text/html": [
       "<iframe\n",
       "    scrolling=\"no\"\n",
       "    width=\"100%\"\n",
       "    height=\"545px\"\n",
       "    src=\"iframe_figures/figure_35.html\"\n",
       "    frameborder=\"0\"\n",
       "    allowfullscreen\n",
       "></iframe>\n"
      ]
     },
     "metadata": {},
     "output_type": "display_data"
    }
   ],
   "source": [
    "fig = get_column_plot(\n",
    "    real_data=df,\n",
    "    synthetic_data=synthetic_data_GC,\n",
    "    column_name='race1'\n",
    ")\n",
    "\n",
    "fig.show()"
   ]
  },
  {
   "cell_type": "code",
   "execution_count": 36,
   "metadata": {},
   "outputs": [
    {
     "data": {
      "text/html": [
       "<iframe\n",
       "    scrolling=\"no\"\n",
       "    width=\"100%\"\n",
       "    height=\"545px\"\n",
       "    src=\"iframe_figures/figure_36.html\"\n",
       "    frameborder=\"0\"\n",
       "    allowfullscreen\n",
       "></iframe>\n"
      ]
     },
     "metadata": {},
     "output_type": "display_data"
    }
   ],
   "source": [
    "fig = get_column_plot(\n",
    "    real_data=df,\n",
    "    synthetic_data=synthetic_data_GC,\n",
    "    column_name='gender'\n",
    ")\n",
    "\n",
    "fig.show()"
   ]
  },
  {
   "cell_type": "markdown",
   "metadata": {},
   "source": [
    "#### Statistical tests for univariate distributions"
   ]
  },
  {
   "cell_type": "code",
   "execution_count": 37,
   "metadata": {},
   "outputs": [
    {
     "name": "stdout",
     "output_type": "stream",
     "text": [
      "KS Statistic for ugpa: 0.012003900156006275, P-value: 0.9526126829808064\n",
      "KS Statistic for lsat: 0.0459625585023401, P-value: 0.000877575000812711\n"
     ]
    }
   ],
   "source": [
    "from scipy.stats import ks_2samp, chi2_contingency\n",
    "\n",
    "# Define continuous variables\n",
    "continuous_vars = ['ugpa', 'lsat']\n",
    "\n",
    "# Apply KS test to continuous variables\n",
    "for column in continuous_vars:\n",
    "    ks_statistic, ks_p_value = ks_2samp(df[column], synthetic_data_GC[column])\n",
    "    print(f\"KS Statistic for {column}: {ks_statistic}, P-value: {ks_p_value}\")"
   ]
  },
  {
   "cell_type": "code",
   "execution_count": 38,
   "metadata": {},
   "outputs": [
    {
     "name": "stdout",
     "output_type": "stream",
     "text": [
      "Chi-squared Statistic for decile1: 77.29777872450552, P-value: 0.5959263187632968\n",
      "Chi-squared Statistic for decile1b: 100.09199453525703, P-value: 0.07387062092580836\n",
      "Chi-squared Statistic for decile3: 90.74588072958366, P-value: 0.2150873329565216\n",
      "Chi-squared Statistic for grad: 0.0, P-value: 1.0\n",
      "Chi-squared Statistic for fulltime: 0.8875471862309382, P-value: 0.34614286379004744\n",
      "Chi-squared Statistic for fam_inc: 8.504830471482686, P-value: 0.9323984716875963\n",
      "Chi-squared Statistic for tier: 17.99800432560409, P-value: 0.8424754215987458\n",
      "Chi-squared Statistic for race1: 16.509149334888047, P-value: 0.41802537318421845\n",
      "Chi-squared Statistic for gender: 0.018108359863191197, P-value: 0.8929539924109825\n",
      "Chi-squared Statistic for pass_bar: 0.2780754315454351, P-value: 0.5979654304142618\n"
     ]
    }
   ],
   "source": [
    "# Degfine categorical variables\n",
    "categorical_vars = ['decile1', 'decile1b', 'decile3', 'grad', 'fulltime', 'fam_inc', 'tier', 'race1', 'gender', 'pass_bar']\n",
    "\n",
    "\n",
    "# Apply Chi-squared test to categorical variables\n",
    "for column in categorical_vars:\n",
    "    # Create a contingency table\n",
    "    contingency_table = pd.crosstab(df[column], synthetic_data_GC[column])\n",
    "    \n",
    "    # Run the Chi-squared test\n",
    "    chi2_stat, chi2_p, dof, ex = chi2_contingency(contingency_table)\n",
    "    print(f\"Chi-squared Statistic for {column}: {chi2_stat}, P-value: {chi2_p}\")"
   ]
  },
  {
   "cell_type": "markdown",
   "metadata": {},
   "source": [
    "## Multivariate checks "
   ]
  },
  {
   "cell_type": "code",
   "execution_count": 39,
   "metadata": {},
   "outputs": [
    {
     "data": {
      "image/png": "[encoded data removed]",
      "text/plain": [
       "<Figure size 1500x600 with 4 Axes>"
      ]
     },
     "metadata": {},
     "output_type": "display_data"
    }
   ],
   "source": [
    "# Create subplots for side-by-side comparison\n",
    "fig, axes = plt.subplots(1, 2, figsize=(15, 6))\n",
    "\n",
    "# Plot correlation heatmap for the real dataset\n",
    "sns.heatmap(df.corr(numeric_only=True), cmap='coolwarm', annot=True, fmt=\".2f\", ax=axes[0])\n",
    "axes[0].set_title('Real Dataset Correlation Heatmap')\n",
    "\n",
    "# Plot correlation heatmap for the synthetic dataset\n",
    "sns.heatmap(synthetic_data_GC.corr(numeric_only=True), cmap='coolwarm', annot=True, fmt=\".2f\", ax=axes[1])\n",
    "axes[1].set_title('Synthetic Dataset Correlation Heatmap')\n",
    "\n",
    "plt.tight_layout()\n",
    "plt.show()"
   ]
  },
  {
   "cell_type": "markdown",
   "metadata": {},
   "source": [
    "We can observe that the correlation between the numerical columns in the original and synthetic datasets are very well preserved. "
   ]
  },
  {
   "cell_type": "markdown",
   "metadata": {},
   "source": [
    "# ML efficacy"
   ]
  },
  {
   "cell_type": "markdown",
   "metadata": {},
   "source": [
    "Some times, the goal of producing synthetic datasets is to solve some downstream machine learning task. This could be a classification problem in our case, so a way to test how well the synthetic datasets are is to split both the original and synthetic datasets into train and test sets. Next, we can fit the ML model to the train portion of the synthetic data and evaluate it on the test portion of the real data. If the synthetic data is close to the  real data, then the capability (f1-score) of the model shouldbe high. "
   ]
  },
  {
   "cell_type": "code",
   "execution_count": 40,
   "metadata": {},
   "outputs": [
    {
     "data": {
      "text/plain": [
       "(0.9738316821775242,)"
      ]
     },
     "execution_count": 40,
     "metadata": {},
     "output_type": "execute_result"
    }
   ],
   "source": [
    "BinaryAdaBoostClassifier.compute(df, synthetic_data_GC, target = 'pass_bar', scorer = [f1_score])"
   ]
  },
  {
   "cell_type": "markdown",
   "metadata": {},
   "source": [
    "# Privacy "
   ]
  },
  {
   "cell_type": "markdown",
   "metadata": {},
   "source": [
    "First we can check if there are any rows in the original data that are found in the synthetic data"
   ]
  },
  {
   "cell_type": "code",
   "execution_count": 41,
   "metadata": {},
   "outputs": [
    {
     "name": "stdout",
     "output_type": "stream",
     "text": [
      "Number of matching rows:  0\n"
     ]
    }
   ],
   "source": [
    "# Check if there are any matching rows in the two dataframes\n",
    "matching_rows = df.isin(synthetic_data_GC).all(axis=1)\n",
    "\n",
    "# Print the number of matching rows\n",
    "print(\"Number of matching rows: \", matching_rows.sum())"
   ]
  },
  {
   "cell_type": "markdown",
   "metadata": {},
   "source": [
    "Next, We can imagine that an attacker already has access to some parts of the dataset. This could e.g. be access to some of the columns in the real data. If the attacker also has access to the full synthetic data, We would like to know how likely it is that they could then recover the remaining original data.  It works in the following way \n",
    "\n",
    "Identify a row (let's call it r) in the original dataset. Record all the key fields present in \n",
    "\n",
    "Search through the synthetic dataset to find all rows that share the same key fields as r. This group of rows is referred to as the \"equivalence class\" of r in the synthetic data.\n",
    "\n",
    "Within this equivalence class, each row contains synthetic values for the sensitive fields. Each of these synthetic values \"votes\" to guess the sensitive fields of the original row r.\n",
    "\n",
    "Calculate the final score by determining the frequency of votes that correctly match all sensitive fields of the original row \n",
    "r. This score ranges between 0 and 1, indicating the accuracy of the synthetic data in replicating sensitive field values from the original dataset.\n",
    "\n",
    "A score closer to one indicates that the the attacker is not able to correctly guess any of the sensitive values. "
   ]
  },
  {
   "cell_type": "code",
   "execution_count": 42,
   "metadata": {},
   "outputs": [
    {
     "data": {
      "text/plain": [
       "0.6332337957283065"
      ]
     },
     "execution_count": 42,
     "metadata": {},
     "output_type": "execute_result"
    }
   ],
   "source": [
    "score = CategoricalCAP.compute(\n",
    "    real_data= df,\n",
    "    synthetic_data=synthetic_data_GC,\n",
    "    key_fields=['race1', 'tier'], # the column names that the attacker already knows. \n",
    "    sensitive_fields=['fam_inc']  # the column names that the attacker wants to guess.\n",
    ")\n",
    "score"
   ]
  }
 ],
 "metadata": {
  "kernelspec": {
   "display_name": "Python 3",
   "language": "python",
   "name": "python3"
  },
  "language_info": {
   "codemirror_mode": {
    "name": "ipython",
    "version": 3
   },
   "file_extension": ".py",
   "mimetype": "text/x-python",
   "name": "python",
   "nbconvert_exporter": "python",
   "pygments_lexer": "ipython3",
   "version": "3.11.9"
  }
 },
 "nbformat": 4,
 "nbformat_minor": 2
}
