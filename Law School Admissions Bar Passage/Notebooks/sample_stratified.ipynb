{
 "cells": [
  {
   "cell_type": "code",
   "execution_count": 9,
   "metadata": {},
   "outputs": [],
   "source": [
    "import numpy as np\n",
    "import pandas as pd\n",
    "from skmultilearn.model_selection import IterativeStratification"
   ]
  },
  {
   "cell_type": "code",
   "execution_count": 2,
   "metadata": {},
   "outputs": [
    {
     "name": "stdout",
     "output_type": "stream",
     "text": [
      "  cat1 cat2      num1        num2\n",
      "0    B    D -0.877983  101.870965\n",
      "1    C    D -0.826880  100.389614\n",
      "2    C    F -0.226479   99.131707\n",
      "3    C    F  0.367366  100.534629\n",
      "4    B    F  0.913585   97.364252\n"
     ]
    }
   ],
   "source": [
    "# Set random seed for reproducibility\n",
    "np.random.seed(42)\n",
    "\n",
    "# Number of rows in the dataset\n",
    "num_rows = 1000\n",
    "\n",
    "# Generate categorical variables\n",
    "categories_1 = ['A', 'B', 'C']\n",
    "categories_2 = ['D', 'E', 'F']\n",
    "cat1 = np.random.choice(categories_1, num_rows, True,  p=[0.1,  0.3, 0.6])# just some random probabilities so that categories are not evenly distributed\n",
    "cat2 = np.random.choice(categories_2, num_rows, True,  p=[0.6, 0.1, 0.3])\n",
    "\n",
    "# Generate numerical variables following normal distributions\n",
    "num1 = np.random.normal(loc=0, scale=1, size=num_rows)\n",
    "num2 = np.random.normal(loc=100, scale=1, size=num_rows)\n",
    "\n",
    "# Create DataFrame\n",
    "data = {\n",
    "    'cat1': cat1,\n",
    "    'cat2': cat2,\n",
    "    'num1': num1,\n",
    "    'num2': num2\n",
    "}\n",
    "\n",
    "df = pd.DataFrame(data)\n",
    "\n",
    "# Display the first few rows of the DataFrame\n",
    "print(df.head())"
   ]
  },
  {
   "cell_type": "code",
   "execution_count": 6,
   "metadata": {},
   "outputs": [],
   "source": [
    "def iterative_split(df, test_size, stratify_columns):\n",
    "    \"\"\"Custom iterative train test split which\n",
    "    'maintains balanced representation with respect\n",
    "    to order-th label combinations.'\n",
    "    \"\"\"\n",
    "    # One-hot encode the stratify columns and concatenate them. This is to keep the proportions in the subsample the same\n",
    "    one_hot_cols = [pd.get_dummies(df[col]) for col in stratify_columns]\n",
    "    one_hot_cols = pd.concat(one_hot_cols, axis=1).to_numpy()\n",
    "    stratifier = IterativeStratification(\n",
    "        n_splits=2, order=len(stratify_columns), sample_distribution_per_fold=[test_size, 1-test_size])\n",
    "    train_indices, test_indices = next(stratifier.split(df.to_numpy(), one_hot_cols))\n",
    "    # Return the train and test set dataframes\n",
    "    train, test = df.iloc[train_indices], df.iloc[test_indices]\n",
    "    return train, test"
   ]
  },
  {
   "cell_type": "code",
   "execution_count": 11,
   "metadata": {},
   "outputs": [
    {
     "name": "stdout",
     "output_type": "stream",
     "text": [
      "df[[\"cat1\"]].value_counts(normalize = True) =cat1\n",
      "C       0.579\n",
      "B       0.313\n",
      "A       0.108\n",
      "Name: proportion, dtype: float64\n",
      "train[[\"cat1\"]].value_counts(normalize = True) =cat1\n",
      "C       0.578333\n",
      "B       0.313333\n",
      "A       0.108333\n",
      "Name: proportion, dtype: float64\n",
      "test[[\"cat1\"]].value_counts(normalize = True)  =cat1\n",
      "C       0.5800\n",
      "B       0.3125\n",
      "A       0.1075\n",
      "Name: proportion, dtype: float64\n"
     ]
    }
   ],
   "source": [
    "print(f'{df[[\"cat1\"]].value_counts(normalize = True) =}')\n",
    "print(f'{train[[\"cat1\"]].value_counts(normalize = True) =}')\n",
    "print(f'{test[[\"cat1\"]].value_counts(normalize = True)  =}')\n"
   ]
  },
  {
   "cell_type": "code",
   "execution_count": 10,
   "metadata": {},
   "outputs": [
    {
     "name": "stdout",
     "output_type": "stream",
     "text": [
      "df[[\"cat2\"]].value_counts(normalize = True) =cat2\n",
      "D       0.570\n",
      "F       0.307\n",
      "E       0.123\n",
      "Name: proportion, dtype: float64\n",
      "train[[\"cat2\"]].value_counts(normalize = True) =cat2\n",
      "D       0.570000\n",
      "F       0.308333\n",
      "E       0.121667\n",
      "Name: proportion, dtype: float64\n",
      "test[[\"cat2\"]].value_counts(normalize = True)  =cat2\n",
      "D       0.570\n",
      "F       0.305\n",
      "E       0.125\n",
      "Name: proportion, dtype: float64\n"
     ]
    }
   ],
   "source": [
    "print(f'{df[[\"cat2\"]].value_counts(normalize = True) =}')\n",
    "print(f'{train[[\"cat2\"]].value_counts(normalize = True) =}')\n",
    "print(f'{test[[\"cat2\"]].value_counts(normalize = True)  =}')"
   ]
  }
 ],
 "metadata": {
  "kernelspec": {
   "display_name": "AlgorithmAudit",
   "language": "python",
   "name": "python3"
  },
  "language_info": {
   "codemirror_mode": {
    "name": "ipython",
    "version": 3
   },
   "file_extension": ".py",
   "mimetype": "text/x-python",
   "name": "python",
   "nbconvert_exporter": "python",
   "pygments_lexer": "ipython3",
   "version": "3.11.7"
  }
 },
 "nbformat": 4,
 "nbformat_minor": 2
}
